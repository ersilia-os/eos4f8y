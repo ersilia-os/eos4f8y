{
 "cells": [
  {
   "cell_type": "code",
   "execution_count": 1,
   "metadata": {},
   "outputs": [
    {
     "name": "stderr",
     "output_type": "stream",
     "text": [
      "/home/endogena/anaconda2/lib/python2.7/site-packages/h5py/__init__.py:36: FutureWarning: Conversion of the second argument of issubdtype from `float` to `np.floating` is deprecated. In future, it will be treated as `np.float64 == np.dtype(float).type`.\n",
      "  from ._conv import register_converters as _register_converters\n",
      "Using TensorFlow backend.\n"
     ]
    }
   ],
   "source": [
    "import numpy as np\n",
    "import pandas as pd\n",
    "import pickle\n",
    "import os\n",
    "from FCD import get_predictions, calculate_frechet_distance\n",
    "\n",
    "os.environ[\"CUDA_VISIBLE_DEVICES\"] = '1' #set gpu "
   ]
  },
  {
   "cell_type": "markdown",
   "metadata": {},
   "source": [
    "### Load Data and Functions"
   ]
  },
  {
   "cell_type": "code",
   "execution_count": 2,
   "metadata": {},
   "outputs": [],
   "source": [
    "# Load generated molecules\n",
    "gen_mol_file = \"generated_smiles/JKUnet.smi\"  # input file which contains one generated SMILES per line\n",
    "gen_mol = pd.read_csv(gen_mol_file, header=None)[0].values[:5000] #take at least 5000 molecules \n",
    "\n",
    "# Load ChEMBL Stats\n",
    "d = pickle.load(open(\"chembl_50k_stats.p\", 'rb')) #statistics of random 50,000 chembl molecules, which were not used for training"
   ]
  },
  {
   "cell_type": "markdown",
   "metadata": {
    "collapsed": true
   },
   "source": [
    "## Calculation of Frechet CHEMBLNET DISTANCE"
   ]
  },
  {
   "cell_type": "code",
   "execution_count": 3,
   "metadata": {},
   "outputs": [
    {
     "name": "stdout",
     "output_type": "stream",
     "text": [
      "loading model\n"
     ]
    },
    {
     "name": "stderr",
     "output_type": "stream",
     "text": [
      "/home/endogena/anaconda2/lib/python2.7/site-packages/keras/models.py:291: UserWarning: Error in loading the saved optimizer state. As a result, your model is starting with a freshly initialized optimizer.\n",
      "  warnings.warn('Error in loading the saved optimizer '\n"
     ]
    },
    {
     "name": "stdout",
     "output_type": "stream",
     "text": [
      "calculating activations\n",
      "2.565787691046353\n"
     ]
    }
   ],
   "source": [
    "# get CHEBMLNET activations of generated molecules \n",
    "gen_mol_act = get_predictions(gen_mol)\n",
    "FCD = calculate_frechet_distance(mu1=np.mean(gen_mol_act, axis=0), mu2=d['mu_chembl'], sigma1=np.cov(gen_mol_act.T), sigma2=d['cov_chembl'])\n",
    "print(FCD)"
   ]
  }
 ],
 "metadata": {
  "kernelspec": {
   "display_name": "Python 2",
   "language": "python",
   "name": "python2"
  },
  "language_info": {
   "codemirror_mode": {
    "name": "ipython",
    "version": 2
   },
   "file_extension": ".py",
   "mimetype": "text/x-python",
   "name": "python",
   "nbconvert_exporter": "python",
   "pygments_lexer": "ipython2",
   "version": "2.7.14"
  }
 },
 "nbformat": 4,
 "nbformat_minor": 1
}
